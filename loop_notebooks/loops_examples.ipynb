{
 "cells": [
  {
   "cell_type": "code",
   "execution_count": null,
   "metadata": {},
   "outputs": [],
   "source": [
    "# Run this cell\n",
    "import time"
   ]
  },
  {
   "cell_type": "markdown",
   "metadata": {},
   "source": [
    "## Intro to loops\n",
    "Loops are a fundamental component of lots of functions and scripts. These are some exercises to help understand loops.\n",
    "\n",
    "## Some hopefully helpful basics\n",
    "This just gives some examples of how to do some things in python that you might find useful in the exercises."
   ]
  },
  {
   "cell_type": "code",
   "execution_count": null,
   "metadata": {},
   "outputs": [],
   "source": [
    "# how to print something\n",
    "print(\"Hello\") #just prints a normal string"
   ]
  },
  {
   "cell_type": "code",
   "execution_count": null,
   "metadata": {},
   "outputs": [],
   "source": [
    "#you can store things inside of variables e.g\n",
    "a = 1\n",
    "print(a)"
   ]
  },
  {
   "cell_type": "code",
   "execution_count": null,
   "metadata": {},
   "outputs": [],
   "source": [
    "# how to print something that is text and a variable\n",
    "print(f\"Hello {a}\")"
   ]
  },
  {
   "cell_type": "code",
   "execution_count": null,
   "metadata": {},
   "outputs": [],
   "source": [
    "# how to create a list\n",
    "mylist = [\"apples\", \"oranges\", \"sharks\"]\n",
    "\n",
    "# how to get one item out of the list\n",
    "mylist[2]"
   ]
  },
  {
   "cell_type": "code",
   "execution_count": null,
   "metadata": {},
   "outputs": [],
   "source": [
    "# how to write an if else statement\n",
    "if a == 1:\n",
    "    print(\"a is 1\")\n",
    "else:\n",
    "    print(\"a is not 1\")"
   ]
  },
  {
   "cell_type": "markdown",
   "metadata": {},
   "source": [
    "# Loops\n",
    "Here are a couple of example loops."
   ]
  },
  {
   "cell_type": "code",
   "execution_count": null,
   "metadata": {},
   "outputs": [],
   "source": [
    "# basic loop\n",
    "for i in range(0, 10):\n",
    "    print(i)\n",
    "    time.sleep(1)\n",
    "print(\"The loop is over now\")"
   ]
  },
  {
   "cell_type": "code",
   "execution_count": null,
   "metadata": {},
   "outputs": [],
   "source": [
    "# slightly more interesting loop\n",
    "da_team = [\"Helena\", \"Rebecca\", \"Nigel\", \"Josh\", \"Robert\", \"Patrick\",\n",
    "           \"Claire\", \"Andrew\", \"James\", \"La 'Raib\", \"Kim\", \"Waqas\", \"Victoria\"]\n",
    "\n",
    "for i in range(0, len(da_team)):\n",
    "    print(f\"Hello {da_team[i]}\")\n",
    "    time.sleep(1)"
   ]
  },
  {
   "cell_type": "markdown",
   "metadata": {},
   "source": [
    "# Exercises\n",
    "Have a go! Don't worry about completing them all."
   ]
  },
  {
   "cell_type": "code",
   "execution_count": null,
   "metadata": {},
   "outputs": [],
   "source": [
    "# EXERCISE 1\n",
    "# write a loop that counts up to 20"
   ]
  },
  {
   "cell_type": "code",
   "execution_count": null,
   "metadata": {},
   "outputs": [],
   "source": [
    "# EXERCISE 2\n",
    "# write a loop that does a countdown from 10 to 1 then prints \"Blast off\""
   ]
  },
  {
   "cell_type": "code",
   "execution_count": null,
   "metadata": {},
   "outputs": [],
   "source": [
    "# EXERCISE 3\n",
    "# adapt the loop above (with peoples names) so everyone says hello to the next\n",
    "# person in the list (see slide)"
   ]
  },
  {
   "cell_type": "code",
   "execution_count": null,
   "metadata": {},
   "outputs": [],
   "source": [
    "# EXERCISE 4\n",
    "# write a loop that checks whether each person in the list is Patrick (see slide)"
   ]
  },
  {
   "cell_type": "code",
   "execution_count": null,
   "metadata": {},
   "outputs": [],
   "source": [
    "# EXERCISE 5\n",
    "# write a loop that creates a pyramid of hashes (see slide)"
   ]
  },
  {
   "cell_type": "code",
   "execution_count": null,
   "metadata": {},
   "outputs": [],
   "source": [
    "# EXERCISE 6\n",
    "# write a loop that prodices the number sequence on the slide"
   ]
  }
 ],
 "metadata": {
  "kernelspec": {
   "display_name": "geographic",
   "language": "python",
   "name": "python3"
  },
  "language_info": {
   "codemirror_mode": {
    "name": "ipython",
    "version": 3
   },
   "file_extension": ".py",
   "mimetype": "text/x-python",
   "name": "python",
   "nbconvert_exporter": "python",
   "pygments_lexer": "ipython3",
   "version": "3.11.4"
  }
 },
 "nbformat": 4,
 "nbformat_minor": 2
}
