{
 "cells": [
  {
   "cell_type": "code",
   "execution_count": null,
   "metadata": {},
   "outputs": [],
   "source": [
    "# Run this cell if you want to use the time.sleep() function\n",
    "# This is not essential, but i find it helpful to slow the loop down\n",
    "import time"
   ]
  },
  {
   "cell_type": "markdown",
   "metadata": {},
   "source": [
    "# Some hopefully helpful basics\n",
    "This just gives some examples of how to do some things in python that you might find useful in the exercises."
   ]
  },
  {
   "cell_type": "code",
   "execution_count": null,
   "metadata": {},
   "outputs": [],
   "source": [
    "# how to print something\n",
    "print(\"Hello\") #just prints a normal string"
   ]
  },
  {
   "cell_type": "code",
   "execution_count": null,
   "metadata": {},
   "outputs": [],
   "source": [
    "#you can store things inside of variables e.g\n",
    "a = 1\n",
    "print(a)"
   ]
  },
  {
   "cell_type": "code",
   "execution_count": null,
   "metadata": {},
   "outputs": [],
   "source": [
    "# how to print something that is text and a variable\n",
    "print(f\"Hello {a}\")"
   ]
  },
  {
   "cell_type": "code",
   "execution_count": null,
   "metadata": {},
   "outputs": [],
   "source": [
    "# how to create a list\n",
    "mylist = [\"apples\", \"oranges\", \"sharks\"]\n",
    "\n",
    "# how to get one item out of the list\n",
    "mylist[2]"
   ]
  },
  {
   "cell_type": "code",
   "execution_count": null,
   "metadata": {},
   "outputs": [],
   "source": [
    "# how to write an if else statement\n",
    "if a == 1:\n",
    "    print(\"a is 1\")\n",
    "else:\n",
    "    print(\"a is not 1\")"
   ]
  },
  {
   "cell_type": "markdown",
   "metadata": {},
   "source": [
    "# Loops\n",
    "Here are a couple of example loops."
   ]
  },
  {
   "cell_type": "code",
   "execution_count": null,
   "metadata": {},
   "outputs": [],
   "source": [
    "# basic loop\n",
    "for i in range(0, 10):\n",
    "    print(i)\n",
    "    time.sleep(1)\n",
    "print(\"The loop is over now\")"
   ]
  },
  {
   "cell_type": "code",
   "execution_count": null,
   "metadata": {},
   "outputs": [],
   "source": [
    "# slightly more interesting loop\n",
    "da_team = [\"Helena\", \"Rebecca\", \"Nigel\", \"Josh\", \"Robert\", \"Patrick\",\n",
    "           \"Claire\", \"Andrew\", \"James\", \"La 'Raib\", \"Kim\", \"Waqas\", \"Victoria\"]\n",
    "\n",
    "for i in range(0, len(da_team)):\n",
    "    print(f\"Hello {da_team[i]}\")\n",
    "    time.sleep(1)"
   ]
  },
  {
   "cell_type": "code",
   "execution_count": null,
   "metadata": {},
   "outputs": [],
   "source": [
    "# patrick pointed out - this is a shorthand alternative to the above\n",
    "for i in da_team:\n",
    "    print(f\"Hello {i}\")\n",
    "    time.sleep(1)"
   ]
  },
  {
   "cell_type": "markdown",
   "metadata": {},
   "source": [
    "# Solutions\n",
    "These are some solutions that work, there may be more than one way to do these things, so if you have found a different way, that is fine too and feel free to add it to this file!"
   ]
  },
  {
   "cell_type": "code",
   "execution_count": null,
   "metadata": {},
   "outputs": [],
   "source": [
    "# EXERCISE 1\n",
    "# write a loop that counts up to 20\n",
    "for i in range(1, 21):\n",
    "    print(i)\n",
    "    time.sleep(1)"
   ]
  },
  {
   "cell_type": "code",
   "execution_count": null,
   "metadata": {},
   "outputs": [],
   "source": [
    "# EXERCISE 2\n",
    "# write a loop that does a countdown from 10 to 1 then prints \"Blast off\"\n",
    "# this isn't the only way - you can also use a thrid argument in range()...\n",
    "for i in range(0, 10):\n",
    "    print(10 - i)\n",
    "    time.sleep(1)\n",
    "print(\"BLAST OFF!\")"
   ]
  },
  {
   "cell_type": "code",
   "execution_count": null,
   "metadata": {},
   "outputs": [],
   "source": [
    "# EXERCISE 3\n",
    "# adapt the loop above (with peoples names) so everyone says hello to the next\n",
    "# person in the list (see slide)\n",
    "da_team = [\"Helena\", \"Rebecca\", \"Nigel\", \"Josh\", \"Robert\", \"Patrick\",\n",
    "           \"Claire\", \"Andrew\", \"James\", \"La 'Raib\", \"Kim\", \"Waqas\", \"Victoria\"]\n",
    "\n",
    "for i in range(0, len(da_team) - 1):\n",
    "    print(f\"{da_team[i]} says hello to {da_team[i+1]}\")\n",
    "    time.sleep(1)\n"
   ]
  },
  {
   "cell_type": "code",
   "execution_count": null,
   "metadata": {},
   "outputs": [],
   "source": [
    "# EXERCISE 4\n",
    "# write a loop that checks whether each person in the list is Patrick (see slide)\n",
    "for i in range(0, len(da_team)):\n",
    "    if da_team[i] == \"Patrick\":\n",
    "        print(\"This is Patrick\")\n",
    "    else:\n",
    "        print(f\"This is not Patrick. This is {da_team[i]}\")\n",
    "    time.sleep(1)\n",
    "\n",
    "# or the shorthand way\n",
    "for i in da_team:\n",
    "    if i == \"Patrick\":\n",
    "        print(\"This is Patrick\")\n",
    "    else:\n",
    "        print(f\"This is not Patrick. This is {i}\")\n",
    "    time.sleep(1)"
   ]
  },
  {
   "cell_type": "code",
   "execution_count": null,
   "metadata": {},
   "outputs": [],
   "source": [
    "# EXERCISE 5\n",
    "# write a loop that creates a pyramid of hashes (see slide)\n",
    "for i in range (1, 11):\n",
    "    x = \"#\"\n",
    "    k = ' '\n",
    "    print(f\"{(10-i)*k}{i*x}{(i-1)*x}{(10-i)*k}\")"
   ]
  },
  {
   "cell_type": "code",
   "execution_count": null,
   "metadata": {},
   "outputs": [],
   "source": [
    "# EXERCISE 6\n",
    "# write a loop that produces the number sequence on the slide\n",
    "for i in range (1, 11):\n",
    "    print((i*i))"
   ]
  }
 ],
 "metadata": {
  "kernelspec": {
   "display_name": "geographic",
   "language": "python",
   "name": "python3"
  },
  "language_info": {
   "codemirror_mode": {
    "name": "ipython",
    "version": 3
   },
   "file_extension": ".py",
   "mimetype": "text/x-python",
   "name": "python",
   "nbconvert_exporter": "python",
   "pygments_lexer": "ipython3",
   "version": "3.11.4"
  }
 },
 "nbformat": 4,
 "nbformat_minor": 2
}
